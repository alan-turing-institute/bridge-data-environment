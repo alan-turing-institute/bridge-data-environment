{
 "nbformat": 4,
 "nbformat_minor": 2,
 "metadata": {
  "language_info": {
   "name": "python",
   "codemirror_mode": {
    "name": "ipython",
    "version": 3
   }
  },
  "orig_nbformat": 2,
  "file_extension": ".py",
  "mimetype": "text/x-python",
  "name": "python",
  "npconvert_exporter": "python",
  "pygments_lexer": "ipython3",
  "version": 3,
  "kernelspec": {
   "name": "python3",
   "display_name": "Python 3"
  }
 },
 "cells": [
  {
   "cell_type": "markdown",
   "metadata": {},
   "source": [
    "# Test Python Notebook\n",
    "\n",
    "This is a Notebook used to test the Python dependencies of the image built by [repo2docker](https://repo2docker.readthedocs.io)."
   ]
  },
  {
   "cell_type": "code",
   "execution_count": 7,
   "metadata": {},
   "outputs": [],
   "source": [
    "# Import packages\n",
    "import numpy as np\n",
    "import pandas as pd\n",
    "import scipy as sp\n",
    "import matplotlib\n",
    "import matplotlib.pyplot as plt"
   ]
  },
  {
   "cell_type": "code",
   "execution_count": 8,
   "metadata": {},
   "outputs": [
    {
     "output_type": "stream",
     "name": "stdout",
     "text": "numpy version 1.18.1\npandas version: 1.0.1\nscipy version: 1.4.1\nmatplotlib version: 3.1.3\n"
    }
   ],
   "source": [
    "# Print versions\n",
    "print(\"numpy version\", np.__version__)\n",
    "print(\"pandas version:\", pd.__version__)\n",
    "print(\"scipy version:\", sp.__version__)\n",
    "print(\"matplotlib version:\", matplotlib.__version__)"
   ]
  },
  {
   "cell_type": "code",
   "execution_count": 11,
   "metadata": {},
   "outputs": [],
   "source": [
    "# Get a test dataset\n",
    "!wget -q -O scottish_hill.csv https://raw.githubusercontent.com/ourcodingclub/CC-python-pandas-matplotlib/master/scottish_hills.csv"
   ]
  },
  {
   "cell_type": "code",
   "execution_count": 12,
   "metadata": {},
   "outputs": [
    {
     "output_type": "execute_result",
     "data": {
      "text/plain": "                    Hill Name  Height   Latitude  Longitude    Osgrid\n0       A' Bhuidheanach Bheag   936.0  56.870342  -4.199001  NN660775\n1               A' Chailleach   997.0  57.693800  -5.128715  NH136714\n2               A' Chailleach   929.2  57.109564  -4.179285  NH681041\n3  A' Chraileag (A' Chralaig)  1120.0  57.184186  -5.154837  NH094147\n4             A' Ghlas-bheinn   918.0  57.255090  -5.303687  NH008231",
      "text/html": "<div>\n<style scoped>\n    .dataframe tbody tr th:only-of-type {\n        vertical-align: middle;\n    }\n\n    .dataframe tbody tr th {\n        vertical-align: top;\n    }\n\n    .dataframe thead th {\n        text-align: right;\n    }\n</style>\n<table border=\"1\" class=\"dataframe\">\n  <thead>\n    <tr style=\"text-align: right;\">\n      <th></th>\n      <th>Hill Name</th>\n      <th>Height</th>\n      <th>Latitude</th>\n      <th>Longitude</th>\n      <th>Osgrid</th>\n    </tr>\n  </thead>\n  <tbody>\n    <tr>\n      <th>0</th>\n      <td>A' Bhuidheanach Bheag</td>\n      <td>936.0</td>\n      <td>56.870342</td>\n      <td>-4.199001</td>\n      <td>NN660775</td>\n    </tr>\n    <tr>\n      <th>1</th>\n      <td>A' Chailleach</td>\n      <td>997.0</td>\n      <td>57.693800</td>\n      <td>-5.128715</td>\n      <td>NH136714</td>\n    </tr>\n    <tr>\n      <th>2</th>\n      <td>A' Chailleach</td>\n      <td>929.2</td>\n      <td>57.109564</td>\n      <td>-4.179285</td>\n      <td>NH681041</td>\n    </tr>\n    <tr>\n      <th>3</th>\n      <td>A' Chraileag (A' Chralaig)</td>\n      <td>1120.0</td>\n      <td>57.184186</td>\n      <td>-5.154837</td>\n      <td>NH094147</td>\n    </tr>\n    <tr>\n      <th>4</th>\n      <td>A' Ghlas-bheinn</td>\n      <td>918.0</td>\n      <td>57.255090</td>\n      <td>-5.303687</td>\n      <td>NH008231</td>\n    </tr>\n  </tbody>\n</table>\n</div>"
     },
     "metadata": {},
     "execution_count": 12
    }
   ],
   "source": [
    "# Load up dataset in pandas\n",
    "scottish_hills = pd.read_csv(\"scottish_hill.csv\")\n",
    "scottish_hills.head()"
   ]
  },
  {
   "cell_type": "code",
   "execution_count": null,
   "metadata": {},
   "outputs": [],
   "source": []
  }
 ]
}