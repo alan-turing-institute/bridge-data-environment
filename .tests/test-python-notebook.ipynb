{
 "nbformat": 4,
 "nbformat_minor": 2,
 "metadata": {
  "language_info": {
   "name": "python",
   "codemirror_mode": {
    "name": "ipython",
    "version": 3
   }
  },
  "orig_nbformat": 2,
  "file_extension": ".py",
  "mimetype": "text/x-python",
  "name": "python",
  "npconvert_exporter": "python",
  "pygments_lexer": "ipython3",
  "version": 3,
  "kernelspec": {
   "name": "python3",
   "display_name": "Python 3"
  }
 },
 "cells": [
  {
   "cell_type": "markdown",
   "metadata": {},
   "source": [
    "# Test Python Notebook\n",
    "\n",
    "This is a Notebook used to test the Python dependencies of the image built by [repo2docker](https://repo2docker.readthedocs.io)."
   ]
  },
  {
   "cell_type": "code",
   "execution_count": null,
   "metadata": {},
   "outputs": [],
   "source": [
    "# Import packages\n",
    "import numpy as np\n",
    "import pandas as pd\n",
    "import scipy as sp\n",
    "import matplotlib\n",
    "import matplotlib.pyplot as plt\n",
    "from scipy.stats import linregress"
   ]
  },
  {
   "cell_type": "code",
   "execution_count": null,
   "metadata": {},
   "outputs": [],
   "source": [
    "# Print versions\n",
    "print(\"numpy version\", np.__version__)\n",
    "print(\"pandas version:\", pd.__version__)\n",
    "print(\"scipy version:\", sp.__version__)\n",
    "print(\"matplotlib version:\", matplotlib.__version__)"
   ]
  },
  {
   "cell_type": "code",
   "execution_count": null,
   "metadata": {},
   "outputs": [],
   "source": [
    "# Get a test dataset\n",
    "!wget -q -O scottish_hills.csv https://raw.githubusercontent.com/ourcodingclub/CC-python-pandas-matplotlib/master/scottish_hills.csv"
   ]
  },
  {
   "cell_type": "code",
   "execution_count": null,
   "metadata": {},
   "outputs": [],
   "source": [
    "# Load up dataset in pandas\n",
    "scottish_hills = pd.read_csv(\"scottish_hills.csv\")\n",
    "scottish_hills.head()"
   ]
  },
  {
   "cell_type": "code",
   "execution_count": null,
   "metadata": {},
   "outputs": [],
   "source": [
    "# Create a plot\n",
    "x = scottish_hills.Height\n",
    "y = scottish_hills.Latitude\n",
    "plt.scatter(x, y);"
   ]
  },
  {
   "cell_type": "code",
   "execution_count": null,
   "metadata": {},
   "outputs": [],
   "source": [
    "# Perform some linear regression with scipy and plot the result\n",
    "stats = linregress(x, y)\n",
    "\n",
    "m = stats.slope\n",
    "b = stats.intercept\n",
    "\n",
    "plt.scatter(x, y)\n",
    "plt.plot(x, m * x + b, color=\"red\");"
   ]
  },
  {
   "cell_type": "code",
   "execution_count": null,
   "metadata": {},
   "outputs": [],
   "source": [
    "# Testing numpy\n",
    "\n",
    "# Create numpy arrays\n",
    "a = np.full((5, 6), 10.0)\n",
    "b = np.ones((2, 2, 2))\n",
    "c = np.zeros(3)\n",
    "\n",
    "for i in [a, b, c]:\n",
    "    print(i)"
   ]
  },
  {
   "cell_type": "code",
   "execution_count": null,
   "metadata": {},
   "outputs": [],
   "source": [
    "# Testing slicing\n",
    "\n",
    "a = np.zeros((3, 3, 3))\n",
    "b = np.zeros((3, 3, 3, 3))\n",
    "\n",
    "for i in [a, b]:\n",
    "    dimensions = len(i.shape)\n",
    "    if dimensions == 3:\n",
    "        i[..., 0] += 1\n",
    "    elif dimensions == 4:\n",
    "        i [..., 0] += 1\n",
    "\n",
    "print(a)\n",
    "print(b)"
   ]
  },
  {
   "cell_type": "code",
   "execution_count": null,
   "metadata": {},
   "outputs": [],
   "source": [
    "# Testing numpy masking\n",
    "magnitude = np.array([2.0, 5.0, 6.0, 1.0])\n",
    "damage = np.array([1000.0, 10000.0, 110000.0, 10.0])\n",
    "\n",
    "print(np.sum(np.ma.masked_where(magnitude < 5.0, damage)))"
   ]
  },
  {
   "cell_type": "code",
   "execution_count": null,
   "metadata": {},
   "outputs": [],
   "source": []
  }
 ]
}